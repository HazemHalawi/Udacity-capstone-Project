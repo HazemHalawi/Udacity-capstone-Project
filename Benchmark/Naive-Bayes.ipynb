{
 "cells": [
  {
   "cell_type": "markdown",
   "metadata": {
    "_uuid": "4645486050c4736482d6493a92629a4a7d5a80f3"
   },
   "source": [
    "# Quora insincere question classifier\n",
    " Detect toxic content to improve online conversation"
   ]
  },
  {
   "cell_type": "code",
   "execution_count": 1,
   "metadata": {
    "_uuid": "070a5939f5393d07a3fc48a36d6bbe7d6d2f6d1c"
   },
   "outputs": [
    {
     "name": "stderr",
     "output_type": "stream",
     "text": [
      "C:\\Users\\HazemH\\Anaconda3\\lib\\site-packages\\h5py\\__init__.py:36: FutureWarning: Conversion of the second argument of issubdtype from `float` to `np.floating` is deprecated. In future, it will be treated as `np.float64 == np.dtype(float).type`.\n",
      "  from ._conv import register_converters as _register_converters\n",
      "Using TensorFlow backend.\n"
     ]
    }
   ],
   "source": [
    "import pandas as pd\n",
    "import keras\n",
    "import string\n",
    "\n",
    "from sklearn import preprocessing\n",
    "from keras.preprocessing.text import Tokenizer"
   ]
  },
  {
   "cell_type": "markdown",
   "metadata": {
    "_uuid": "6a614a5d98afd800ff4f64f972cd2c6172178375"
   },
   "source": [
    "## 1. Load the Data"
   ]
  },
  {
   "cell_type": "code",
   "execution_count": 3,
   "metadata": {
    "_uuid": "624cb076994e656c641ba8d45a3361ed135efdb2"
   },
   "outputs": [],
   "source": [
    "X_train = pd.read_csv(\"../Dataset/train.csv\")\n",
    "#X_train.head()\n",
    "#X_train.shape\n",
    "\n",
    "test_set = pd.read_csv(\"../Dataset/test.csv\")\n",
    "#test_set.shape"
   ]
  },
  {
   "cell_type": "markdown",
   "metadata": {
    "_uuid": "9aef8729e18f0a9dec8dd8daa23b044118d340ec"
   },
   "source": [
    "Use only a subset"
   ]
  },
  {
   "cell_type": "code",
   "execution_count": null,
   "metadata": {
    "_uuid": "44a6dee4c80a7c61d19340ea62200e733901b939"
   },
   "outputs": [],
   "source": [
    "#X_train = X_train[:1000000]\n",
    "#training_set.count()\n",
    "#X_train.head()"
   ]
  },
  {
   "cell_type": "markdown",
   "metadata": {
    "_uuid": "26c3d32adf994b913c65789416ae317f4e2059d0"
   },
   "source": [
    "## 2. Preprocess question_text column"
   ]
  },
  {
   "cell_type": "markdown",
   "metadata": {
    "_uuid": "0c3604cc90953108b0f083fa23a3cefaeadb7a76"
   },
   "source": [
    "Split the data into features and target label"
   ]
  },
  {
   "cell_type": "code",
   "execution_count": 4,
   "metadata": {
    "_uuid": "17334e62f9bed42d8aacb21c843e11dd62bb0587"
   },
   "outputs": [],
   "source": [
    "y_train = X_train['target']\n",
    "X_train = X_train['question_text']\n",
    "\n",
    "\n",
    "test_set = test_set['question_text']"
   ]
  },
  {
   "cell_type": "markdown",
   "metadata": {
    "_uuid": "e2b1ef9ad89a05c860b27ca4f251f154a6b10a74"
   },
   "source": [
    "## 3. Label encoding"
   ]
  },
  {
   "cell_type": "markdown",
   "metadata": {
    "_uuid": "eb6b7d1b61dc0dd27cd17a42d971cbe1ad21541d"
   },
   "source": [
    "Define and fit tokenizer "
   ]
  },
  {
   "cell_type": "code",
   "execution_count": 5,
   "metadata": {
    "_uuid": "306452f1f4ef24c06481e3a85b327501ffc2b183"
   },
   "outputs": [],
   "source": [
    "tokenizer = Tokenizer()\n",
    "tokenizer.fit_on_texts( pd.concat([X_train,test_set],ignore_index=True) )"
   ]
  },
  {
   "cell_type": "markdown",
   "metadata": {
    "_uuid": "93e3fbe782c10c24b0f4f79d131ef9fd4e9ea41f"
   },
   "source": [
    "Transform Label encode text"
   ]
  },
  {
   "cell_type": "code",
   "execution_count": 6,
   "metadata": {
    "_uuid": "11f8c2e7bbeead8e63ee9a6475cfb046c06eec57"
   },
   "outputs": [],
   "source": [
    "X_train = tokenizer.texts_to_sequences(X_train)\n",
    "\n",
    "test_set = tokenizer.texts_to_sequences(test_set)"
   ]
  },
  {
   "cell_type": "markdown",
   "metadata": {
    "_uuid": "59f774f34d9af7d637f79870c14adb5d9aa092db"
   },
   "source": [
    "## 4. One hot encoding"
   ]
  },
  {
   "cell_type": "markdown",
   "metadata": {
    "_uuid": "7b208f55625ad7e7a614e9ed44e71e89310951b7"
   },
   "source": [
    "One-Hot Encode each row"
   ]
  },
  {
   "cell_type": "code",
   "execution_count": 7,
   "metadata": {
    "_uuid": "df86e9bda1c1328a2875e548b989c4d688078f7f"
   },
   "outputs": [],
   "source": [
    "from functools import reduce\n",
    "import operator\n",
    "\n",
    "# One-hot encoding the output into vector mode, each of length num_words\n",
    "tokenizer = Tokenizer(num_words=500)\n",
    "\n",
    "X_train = tokenizer.sequences_to_matrix(X_train, mode='binary')\n",
    "\n",
    "test_set = tokenizer.sequences_to_matrix(test_set, mode='binary')"
   ]
  },
  {
   "cell_type": "markdown",
   "metadata": {
    "_uuid": "25055643f5b73ee141b45e7e0b7cb510e8850c72"
   },
   "source": [
    "## 5. Split features into training and validation set"
   ]
  },
  {
   "cell_type": "code",
   "execution_count": null,
   "metadata": {
    "_uuid": "67859b384ca6c828802717ec612d0a3722d95ef2"
   },
   "outputs": [],
   "source": [
    "from sklearn.model_selection import train_test_split\n",
    "X_train, X_test, y_train, y_test = train_test_split(X_train, \n",
    "                                                    y_train, \n",
    "                                                    test_size=0.2,\n",
    "                                                    random_state=28)"
   ]
  },
  {
   "cell_type": "markdown",
   "metadata": {
    "_uuid": "53ebbfee7b331847876458574c5c1baf0b8d04e7"
   },
   "source": [
    "## 6. Define and train the model"
   ]
  },
  {
   "cell_type": "code",
   "execution_count": null,
   "metadata": {
    "_uuid": "080d99f84871bc44e25bbb2eb26f9090da069bee"
   },
   "outputs": [],
   "source": [
    "from sklearn.naive_bayes import GaussianNB\n",
    "QuoraClassifier = GaussianNB()\n",
    "\n",
    "#import time\n",
    "#start = time.time()\n",
    "QuoraClassifier.fit(X_train, y_train.values)\n",
    "#end = time.time()\n",
    "\n",
    "#print(end-start)"
   ]
  },
  {
   "cell_type": "markdown",
   "metadata": {
    "_uuid": "2bb3c0461760fe8727af85c31de62e46e1b9fd81"
   },
   "source": [
    "## 7. Model evaluation"
   ]
  },
  {
   "cell_type": "code",
   "execution_count": null,
   "metadata": {
    "_uuid": "2341c462bbae37863b00c18bc805a6dc7e603aee"
   },
   "outputs": [],
   "source": [
    "from sklearn.metrics import f1_score\n",
    "\n",
    "pred = QuoraClassifier.predict(X_test)\n",
    "print(\"Accuracy: \", f1_score(y_test.values, pred))"
   ]
  },
  {
   "cell_type": "markdown",
   "metadata": {
    "_uuid": "4e0ed98e636b7627156c35de65047dbf731bb40d"
   },
   "source": [
    "## 8. Predicting on the test set "
   ]
  },
  {
   "cell_type": "markdown",
   "metadata": {
    "_uuid": "7738377438f5218c5b2d71e0c22fb1e5a32ca0d2"
   },
   "source": [
    "Predict the test_set labels"
   ]
  },
  {
   "cell_type": "code",
   "execution_count": null,
   "metadata": {
    "_uuid": "588aca0665fd50991c83c1e09756dea611abb847"
   },
   "outputs": [],
   "source": [
    "test_pred = QuoraClassifier.predict(test_set)"
   ]
  },
  {
   "cell_type": "markdown",
   "metadata": {
    "_uuid": "5629e9ce36c7fdef61c8f9621abc924e57004ddd"
   },
   "source": [
    "Transform it into a dataframe"
   ]
  },
  {
   "cell_type": "code",
   "execution_count": null,
   "metadata": {
    "_uuid": "ff1648b4cfaf6013c84463e2aa15767a8ecf2c7d"
   },
   "outputs": [],
   "source": [
    "df = pd.DataFrame(data=test_pred)"
   ]
  },
  {
   "cell_type": "markdown",
   "metadata": {
    "_uuid": "b30642d01502894b227535eb64bb7078d03edf55"
   },
   "source": [
    "Save Predictions to Submission file"
   ]
  },
  {
   "cell_type": "code",
   "execution_count": null,
   "metadata": {
    "_uuid": "6311ae4ae967e52c45cf57eb9fba3178ddffbbf1"
   },
   "outputs": [],
   "source": [
    "#save to submission\n",
    "submission = pd.read_csv(\"../input/sample_submission.csv\")\n",
    "submission['prediction'] = df\n",
    "submission.to_csv('submission.csv', index=False)"
   ]
  },
  {
   "cell_type": "code",
   "execution_count": null,
   "metadata": {
    "_uuid": "63b7c5aee36ef487c8ad608835ab566f6eb7d47a"
   },
   "outputs": [],
   "source": []
  }
 ],
 "metadata": {
  "kernelspec": {
   "display_name": "Python 3",
   "language": "python",
   "name": "python3"
  },
  "language_info": {
   "codemirror_mode": {
    "name": "ipython",
    "version": 3
   },
   "file_extension": ".py",
   "mimetype": "text/x-python",
   "name": "python",
   "nbconvert_exporter": "python",
   "pygments_lexer": "ipython3",
   "version": "3.6.5"
  }
 },
 "nbformat": 4,
 "nbformat_minor": 1
}
